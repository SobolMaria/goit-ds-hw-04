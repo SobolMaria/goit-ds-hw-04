{
  "nbformat": 4,
  "nbformat_minor": 0,
  "metadata": {
    "colab": {
      "provenance": [],
      "authorship_tag": "ABX9TyMNe7+QATKCTWc80VnkGyHN",
      "include_colab_link": true
    },
    "kernelspec": {
      "name": "python3",
      "display_name": "Python 3"
    },
    "language_info": {
      "name": "python"
    }
  },
  "cells": [
    {
      "cell_type": "markdown",
      "metadata": {
        "id": "view-in-github",
        "colab_type": "text"
      },
      "source": [
        "<a href=\"https://colab.research.google.com/github/SobolMaria/goit-ds-hw-04/blob/main/task_1.ipynb\" target=\"_parent\"><img src=\"https://colab.research.google.com/assets/colab-badge.svg\" alt=\"Open In Colab\"/></a>"
      ]
    },
    {
      "cell_type": "code",
      "source": [
        "import numpy as np"
      ],
      "metadata": {
        "id": "b7o9wNQFM-Ru"
      },
      "execution_count": 6,
      "outputs": []
    },
    {
      "cell_type": "code",
      "execution_count": 9,
      "metadata": {
        "colab": {
          "base_uri": "https://localhost:8080/"
        },
        "id": "KVrxoP13Mpzl",
        "outputId": "b8c5cd40-bb63-4977-cefb-a81c27b58d5c"
      },
      "outputs": [
        {
          "output_type": "stream",
          "name": "stdout",
          "text": [
            "[0 1 2 3 4 5 6 7 8 9]\n"
          ]
        }
      ],
      "source": [
        "a = np.arange(0, 10)\n",
        "print(a)"
      ]
    },
    {
      "cell_type": "code",
      "source": [
        "b = np.zeros((3, 3), dtype=\"int\")\n",
        "print(b)"
      ],
      "metadata": {
        "colab": {
          "base_uri": "https://localhost:8080/"
        },
        "id": "vBIpNj3fNibq",
        "outputId": "e169374d-58fc-434d-fe81-22318fee2270"
      },
      "execution_count": 18,
      "outputs": [
        {
          "output_type": "stream",
          "name": "stdout",
          "text": [
            "[[0 0 0]\n",
            " [0 0 0]\n",
            " [0 0 0]]\n"
          ]
        }
      ]
    },
    {
      "cell_type": "code",
      "source": [
        "c = np.random.randint( 11, size=(5,5))\n",
        "print(c)"
      ],
      "metadata": {
        "colab": {
          "base_uri": "https://localhost:8080/"
        },
        "id": "niDnyFj4Nzy3",
        "outputId": "b1e00710-a454-4638-e80b-77be7c654fc9"
      },
      "execution_count": 16,
      "outputs": [
        {
          "output_type": "stream",
          "name": "stdout",
          "text": [
            "[[ 7 10  6  4  6]\n",
            " [ 3  4  7  7  7]\n",
            " [ 3  4  2  8  4]\n",
            " [10  9  9  7  0]\n",
            " [ 2  7  9  5  0]]\n"
          ]
        }
      ]
    },
    {
      "cell_type": "code",
      "source": [
        "d = np.random.random((4,4))\n",
        "print(d)"
      ],
      "metadata": {
        "colab": {
          "base_uri": "https://localhost:8080/"
        },
        "id": "7vOWkimtP5TN",
        "outputId": "953da015-5dbe-4903-c1d6-fe0945026634"
      },
      "execution_count": 17,
      "outputs": [
        {
          "output_type": "stream",
          "name": "stdout",
          "text": [
            "[[0.23107808 0.17752675 0.65396085 0.61093147]\n",
            " [0.78990773 0.88035784 0.36941836 0.17429784]\n",
            " [0.476626   0.45326279 0.64876399 0.83469081]\n",
            " [0.43954909 0.47516639 0.27863298 0.23150067]]\n"
          ]
        }
      ]
    },
    {
      "cell_type": "code",
      "source": [
        "a = np.random.randint(1,11, size=(1,5))\n",
        "b = np.random.randint(1,11, size=(1,5))\n",
        "sum = a+b\n",
        "subs = a-b\n",
        "mult = a*b\n",
        "print(sum)\n",
        "print(subs)\n",
        "print(mult)"
      ],
      "metadata": {
        "colab": {
          "base_uri": "https://localhost:8080/"
        },
        "id": "33IB9QSkQQm7",
        "outputId": "52e92d82-580e-450e-af9d-10283d341f28"
      },
      "execution_count": 26,
      "outputs": [
        {
          "output_type": "stream",
          "name": "stdout",
          "text": [
            "[[10 10 10 10  3]]\n",
            "[[ 4 10  5 10  8]]\n",
            "[[14 20 15 20 11]]\n",
            "[[ 6  0  5  0 -5]]\n",
            "[[ 40 100  50 100  24]]\n"
          ]
        }
      ]
    },
    {
      "cell_type": "code",
      "source": [
        "a = np.random.randn(7)\n",
        "b = np.random.randn(7)\n",
        "scalar = np.dot(a, b)\n",
        "print(scalar)"
      ],
      "metadata": {
        "colab": {
          "base_uri": "https://localhost:8080/"
        },
        "id": "F1BRcYyoRjRu",
        "outputId": "cdb38aa5-cb19-496e-9afb-416271066016"
      },
      "execution_count": 33,
      "outputs": [
        {
          "output_type": "stream",
          "name": "stdout",
          "text": [
            "[ 0.25214177 -0.4015616  -0.01877124  0.0245224   1.58132501  0.93710022\n",
            " -0.31194567]\n",
            "[ 0.08072646 -0.67175028  0.03983537 -0.52615392 -0.6650955  -1.69085372\n",
            "  0.37285714]\n",
            "-2.4760893916685474\n"
          ]
        }
      ]
    },
    {
      "cell_type": "code",
      "source": [
        "a = np.random.randint(1,11, size=(2,2))\n",
        "b = np.random.randint(1,11, size=(2,3))\n",
        "ab = np.dot(a,b)\n",
        "print(ab)"
      ],
      "metadata": {
        "colab": {
          "base_uri": "https://localhost:8080/"
        },
        "id": "cJxdRMHMTFT9",
        "outputId": "198d5ea0-f9b2-43b8-8140-067b26b6c390"
      },
      "execution_count": 37,
      "outputs": [
        {
          "output_type": "stream",
          "name": "stdout",
          "text": [
            "[[7 3]\n",
            " [3 8]]\n",
            "[[ 2 10  9]\n",
            " [ 2  1  5]]\n",
            "[[20 73 78]\n",
            " [22 38 67]]\n"
          ]
        }
      ]
    },
    {
      "cell_type": "code",
      "source": [
        "a = np.random.randint(1,11, size=(3,3))\n",
        "a_inv = np.linalg.inv(a)\n",
        "print(a_inv)"
      ],
      "metadata": {
        "colab": {
          "base_uri": "https://localhost:8080/"
        },
        "id": "L874QcHGUSdT",
        "outputId": "80a892e2-4393-4d45-ee57-cd9e7539bf02"
      },
      "execution_count": 39,
      "outputs": [
        {
          "output_type": "stream",
          "name": "stdout",
          "text": [
            "[[ 6  3  7]\n",
            " [ 7  4  9]\n",
            " [ 9  3 10]]\n",
            "[[ 2.16666667 -1.5        -0.16666667]\n",
            " [ 1.83333333 -0.5        -0.83333333]\n",
            " [-2.5         1.5         0.5       ]]\n"
          ]
        }
      ]
    },
    {
      "cell_type": "code",
      "source": [
        "a = np.random.random((4,4))\n",
        "a_t = a.T\n",
        "print(a_t)"
      ],
      "metadata": {
        "colab": {
          "base_uri": "https://localhost:8080/"
        },
        "id": "txvYwhyfVGyw",
        "outputId": "2568c139-d3e4-41c5-ef10-759c32edda56"
      },
      "execution_count": 40,
      "outputs": [
        {
          "output_type": "stream",
          "name": "stdout",
          "text": [
            "[[0.8838159  0.64841649 0.4268674  0.36322926]\n",
            " [0.27319106 0.76282762 0.17239819 0.3263816 ]\n",
            " [0.38407418 0.20096243 0.40290641 0.47111515]\n",
            " [0.26210415 0.79409374 0.7826932  0.94874145]]\n",
            "[[0.8838159  0.27319106 0.38407418 0.26210415]\n",
            " [0.64841649 0.76282762 0.20096243 0.79409374]\n",
            " [0.4268674  0.17239819 0.40290641 0.7826932 ]\n",
            " [0.36322926 0.3263816  0.47111515 0.94874145]]\n"
          ]
        }
      ]
    },
    {
      "cell_type": "code",
      "source": [
        "a = np.random.randint(1,11, size=(3,4))\n",
        "b = np.random.randint(1,11, size=(4))\n",
        "ab = np.dot(a,b)\n",
        "print(ab)"
      ],
      "metadata": {
        "colab": {
          "base_uri": "https://localhost:8080/"
        },
        "id": "S8XKnBwfVWPr",
        "outputId": "66617740-08ff-4d0b-9fba-8c2a1af7cfd9"
      },
      "execution_count": 42,
      "outputs": [
        {
          "output_type": "stream",
          "name": "stdout",
          "text": [
            "[[ 3  7 10  4]\n",
            " [10  2  8  6]\n",
            " [ 5  4 10 10]]\n",
            "[7 5 1 2]\n",
            "[ 74 100  85]\n"
          ]
        }
      ]
    },
    {
      "cell_type": "code",
      "source": [
        "a = np.random.random((2,3))\n",
        "b = np.random.random((3))\n",
        "ab = np.dot(a,b)\n",
        "print(ab)"
      ],
      "metadata": {
        "colab": {
          "base_uri": "https://localhost:8080/"
        },
        "id": "lUrGQBWJWp6h",
        "outputId": "787f6b59-e148-450c-81df-61adb2c9361c"
      },
      "execution_count": 46,
      "outputs": [
        {
          "output_type": "stream",
          "name": "stdout",
          "text": [
            "[[0.60062951 0.19772406 0.50636128]\n",
            " [0.4360854  0.71700591 0.03784971]]\n",
            "[0.70738356 0.78218306 0.05877534]\n",
            "[0.60929341 0.87153415]\n"
          ]
        }
      ]
    },
    {
      "cell_type": "code",
      "source": [
        "a = np.random.randint(1,11, size=(2,2))\n",
        "b = np.random.randint(1,11, size=(2,2))\n",
        "ab = a*b\n",
        "print(ab)"
      ],
      "metadata": {
        "colab": {
          "base_uri": "https://localhost:8080/"
        },
        "id": "bKQwHlpFXkxc",
        "outputId": "3b551015-1077-456a-d603-8f333a6b258a"
      },
      "execution_count": 53,
      "outputs": [
        {
          "output_type": "stream",
          "name": "stdout",
          "text": [
            "[[60  7]\n",
            " [80  8]]\n"
          ]
        }
      ]
    },
    {
      "cell_type": "code",
      "source": [
        "a = np.random.randint(1,11, size=(2,2))\n",
        "b = np.random.randint(1,11, size=(2,2))\n",
        "ab = np.dot(a,b)\n",
        "print(ab)"
      ],
      "metadata": {
        "colab": {
          "base_uri": "https://localhost:8080/"
        },
        "id": "TYd8CRrmYO18",
        "outputId": "1e25ab0d-ba85-45c0-c864-d611c89af142"
      },
      "execution_count": 48,
      "outputs": [
        {
          "output_type": "stream",
          "name": "stdout",
          "text": [
            "[[103 108]\n",
            " [ 53  23]]\n"
          ]
        }
      ]
    },
    {
      "cell_type": "code",
      "source": [
        "a = np.random.randint(1,101, size=(5,5))\n",
        "sum = a.sum()\n",
        "print(sum)"
      ],
      "metadata": {
        "colab": {
          "base_uri": "https://localhost:8080/"
        },
        "id": "uoIbpKdAYYrg",
        "outputId": "7fc22c9a-5a25-4ce4-dcc0-1d91f146b7e1"
      },
      "execution_count": 52,
      "outputs": [
        {
          "output_type": "stream",
          "name": "stdout",
          "text": [
            "1161\n"
          ]
        }
      ]
    },
    {
      "cell_type": "code",
      "source": [
        "a = np.random.randint(1,11, size=(4,4))\n",
        "b = np.random.randint(1,11, size=(4,4))\n",
        "subs = a - b\n",
        "print(subs)"
      ],
      "metadata": {
        "colab": {
          "base_uri": "https://localhost:8080/"
        },
        "id": "wrYT1mQCYt2A",
        "outputId": "b85ca4ce-b616-4ff4-8bd6-77ad9f95b70f"
      },
      "execution_count": 54,
      "outputs": [
        {
          "output_type": "stream",
          "name": "stdout",
          "text": [
            "[[2 9 8 1]\n",
            " [4 2 1 3]\n",
            " [9 3 6 7]\n",
            " [5 5 3 9]]\n",
            "[[ 5  9  8  3]\n",
            " [ 3  1  5  4]\n",
            " [ 4  4  7  5]\n",
            " [ 2 10  9  3]]\n",
            "[[-3  0  0 -2]\n",
            " [ 1  1 -4 -1]\n",
            " [ 5 -1 -1  2]\n",
            " [ 3 -5 -6  6]]\n"
          ]
        }
      ]
    },
    {
      "cell_type": "code",
      "source": [
        "a = np.random.random((3,3))\n",
        "row_sum = np.sum(a, axis=1).reshape(-1, 1)\n",
        "print(a)\n",
        "print(row_sum)"
      ],
      "metadata": {
        "colab": {
          "base_uri": "https://localhost:8080/"
        },
        "id": "qf_oPntuZx_d",
        "outputId": "51a30be5-2bec-4c74-f024-2efbbeb285e4"
      },
      "execution_count": 58,
      "outputs": [
        {
          "output_type": "stream",
          "name": "stdout",
          "text": [
            "[[0.91117408 0.81537297 0.11589014]\n",
            " [0.58475531 0.29648242 0.78383145]\n",
            " [0.63597711 0.10660537 0.5181747 ]]\n",
            "[[1.8424372 ]\n",
            " [1.66506918]\n",
            " [1.26075719]]\n"
          ]
        }
      ]
    },
    {
      "cell_type": "code",
      "source": [
        "a = np.random.randint(1, 10, size=(3,4))\n",
        "a_square = np.square(a)\n",
        "print(a)\n",
        "print(a_square)"
      ],
      "metadata": {
        "colab": {
          "base_uri": "https://localhost:8080/"
        },
        "id": "5RHngVFdbxKo",
        "outputId": "87a8c0d7-3e37-464a-e4b2-758f8cf55917"
      },
      "execution_count": 63,
      "outputs": [
        {
          "output_type": "stream",
          "name": "stdout",
          "text": [
            "[[2 4 7 4]\n",
            " [2 2 8 4]\n",
            " [5 4 3 1]]\n",
            "[[ 4 16 49 16]\n",
            " [ 4  4 64 16]\n",
            " [25 16  9  1]]\n"
          ]
        }
      ]
    },
    {
      "cell_type": "code",
      "source": [
        "a = np.random.randint(1,51, size=(4))\n",
        "a_sqrt = np.sqrt(a)\n",
        "print(a)\n",
        "print(a_sqrt)"
      ],
      "metadata": {
        "colab": {
          "base_uri": "https://localhost:8080/"
        },
        "id": "rZd3rEV3dQRp",
        "outputId": "5b52ad38-23b5-4a1e-ef9e-fb303c907623"
      },
      "execution_count": 64,
      "outputs": [
        {
          "output_type": "stream",
          "name": "stdout",
          "text": [
            "[24 11 23 32]\n",
            "[4.89897949 3.31662479 4.79583152 5.65685425]\n"
          ]
        }
      ]
    }
  ]
}