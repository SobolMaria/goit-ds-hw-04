{
  "nbformat": 4,
  "nbformat_minor": 0,
  "metadata": {
    "colab": {
      "provenance": [],
      "authorship_tag": "ABX9TyOR1u6Ah/hjBrBwFR/SDp9p",
      "include_colab_link": true
    },
    "kernelspec": {
      "name": "python3",
      "display_name": "Python 3"
    },
    "language_info": {
      "name": "python"
    }
  },
  "cells": [
    {
      "cell_type": "markdown",
      "metadata": {
        "id": "view-in-github",
        "colab_type": "text"
      },
      "source": [
        "<a href=\"https://colab.research.google.com/github/SobolMaria/goit-ds-hw-04/blob/main/task_2.ipynb\" target=\"_parent\"><img src=\"https://colab.research.google.com/assets/colab-badge.svg\" alt=\"Open In Colab\"/></a>"
      ]
    },
    {
      "cell_type": "code",
      "execution_count": 1,
      "metadata": {
        "id": "9PpoeopsgprY"
      },
      "outputs": [],
      "source": [
        "import numpy as np"
      ]
    },
    {
      "cell_type": "markdown",
      "source": [
        "1. Замініть усі непарні числа в arr на -1 arr = np.array([0, 1, 2, 3, 4, 5, 6, 7, 8, 9])"
      ],
      "metadata": {
        "id": "eX-e7jJgjALr"
      }
    },
    {
      "cell_type": "code",
      "source": [
        "arr = np.array([0, 1, 2, 3, 4, 5, 6, 7, 8, 9])\n",
        "\n",
        "arr[arr % 2 != 0] = -1\n",
        "\n",
        "print(arr)"
      ],
      "metadata": {
        "colab": {
          "base_uri": "https://localhost:8080/"
        },
        "id": "CCgMTrbigyz3",
        "outputId": "4c3ec580-f277-4e86-f157-6bb470cdf4ac"
      },
      "execution_count": 4,
      "outputs": [
        {
          "output_type": "stream",
          "name": "stdout",
          "text": [
            "[ 0 -1  2 -1  4 -1  6 -1  8 -1]\n"
          ]
        }
      ]
    },
    {
      "cell_type": "markdown",
      "source": [
        "2. Створіть та перетворіть 1D-масив на 2D-масив із 2 рядками"
      ],
      "metadata": {
        "id": "iyBSjCFbjEgL"
      }
    },
    {
      "cell_type": "code",
      "source": [
        "arr = np.array([0, 1, 2, 3])\n",
        "\n",
        "arr_22 = arr.reshape(2,2)\n",
        "print(arr_22)"
      ],
      "metadata": {
        "colab": {
          "base_uri": "https://localhost:8080/"
        },
        "id": "AuEPdG31i7ND",
        "outputId": "958b4acc-2d2b-4049-c5bf-b0b44b8b212b"
      },
      "execution_count": 6,
      "outputs": [
        {
          "output_type": "stream",
          "name": "stdout",
          "text": [
            "[[0 1]\n",
            " [2 3]]\n"
          ]
        }
      ]
    },
    {
      "cell_type": "markdown",
      "source": [
        "3. Створіть два двовимірні масиви а і b, та складіть масиви їх вертикально"
      ],
      "metadata": {
        "id": "sRnaGPeOjdZh"
      }
    },
    {
      "cell_type": "code",
      "source": [
        "arr1 = np.array([[0, 1], [2, 3]])\n",
        "arr2 = np.array([[4, 5], [6, 7]])\n",
        "\n",
        "arr12 = np.concatenate((arr1,arr2), axis=0)\n",
        "print(arr12)"
      ],
      "metadata": {
        "colab": {
          "base_uri": "https://localhost:8080/"
        },
        "id": "R0uvYjE1jeRh",
        "outputId": "a76d7700-c012-4cb3-edd4-91b77a111d53"
      },
      "execution_count": 10,
      "outputs": [
        {
          "output_type": "stream",
          "name": "stdout",
          "text": [
            "[[0 1]\n",
            " [2 3]\n",
            " [4 5]\n",
            " [6 7]]\n"
          ]
        }
      ]
    },
    {
      "cell_type": "markdown",
      "source": [
        "4. Створіть наступний шаблон без жорсткого кодування(Hard coding) . Використовуйте лише функції Numpy і наведений нижче масив введення Input:a = np.array([1,2,3])\n",
        "\n",
        "Output:array([1, 1, 1, 2, 2, 2, 3, 3, 3, 1, 2, 3, 1, 2, 3, 1, 2, 3])\n",
        "\n"
      ],
      "metadata": {
        "id": "L1ZnIcEukwXw"
      }
    },
    {
      "cell_type": "code",
      "source": [
        "a = np.array([1,2,3])\n",
        "\n",
        "a_output = ([a[0], a[0], a[0], a[1], a[1], a[1], a[2], a[2], a[2], a[0], a[1], a[2], a[0], a[1], a[2], a[0], a[1], a[2]])\n",
        "print(a_output)"
      ],
      "metadata": {
        "colab": {
          "base_uri": "https://localhost:8080/"
        },
        "id": "TugMcgPfku3D",
        "outputId": "807cd909-7de8-43e7-b7b5-f1f950546579"
      },
      "execution_count": 12,
      "outputs": [
        {
          "output_type": "stream",
          "name": "stdout",
          "text": [
            "[1, 1, 1, 2, 2, 2, 3, 3, 3, 1, 2, 3, 1, 2, 3, 1, 2, 3]\n"
          ]
        }
      ]
    },
    {
      "cell_type": "markdown",
      "source": [
        "5. Отримайте спільні елементи між a і b"
      ],
      "metadata": {
        "id": "NkJQLqmxmCcn"
      }
    },
    {
      "cell_type": "code",
      "source": [
        "a = np.array([1,2,3,2,3,4,3,4,5,6])\n",
        "b = np.array([7,2,10,2,7,4,9,4,9,8])\n",
        "\n",
        "c = np.intersect1d(a,b)\n",
        "print(c)\n"
      ],
      "metadata": {
        "colab": {
          "base_uri": "https://localhost:8080/"
        },
        "id": "5XXeUVmxmCEm",
        "outputId": "1f8bf531-5f7f-4435-ecb7-215599c07c1f"
      },
      "execution_count": 13,
      "outputs": [
        {
          "output_type": "stream",
          "name": "stdout",
          "text": [
            "[2 4]\n"
          ]
        }
      ]
    },
    {
      "cell_type": "markdown",
      "source": [
        "6. Отримайте позиції перших 5 максимальних значень у заданому масиві a"
      ],
      "metadata": {
        "id": "bUizUhRHmrf4"
      }
    },
    {
      "cell_type": "code",
      "source": [
        "np.random.seed(100)\n",
        "a = np.random.uniform(1, 50, 20)\n",
        "print(a)\n",
        "indices_max = np.argsort(a)[-5:][::-1]\n",
        "print(indices_max)"
      ],
      "metadata": {
        "colab": {
          "base_uri": "https://localhost:8080/"
        },
        "collapsed": true,
        "id": "SLYXzme7mq5o",
        "outputId": "ca339971-fdcd-4681-c858-670f674dfb05"
      },
      "execution_count": 25,
      "outputs": [
        {
          "output_type": "stream",
          "name": "stdout",
          "text": [
            "[27.62684215 14.64009987 21.80136195 42.39403048  1.23122395  6.95688692\n",
            " 33.86670515 41.466785    7.69862289 29.17957314 44.67477576 11.25090398\n",
            " 10.08108276  6.31046763 11.76517714 48.95256545 40.77247431  9.42510962\n",
            " 40.99501269 14.42961361]\n",
            "[15 10  3  7 18]\n"
          ]
        }
      ]
    },
    {
      "cell_type": "markdown",
      "source": [
        "7. Вилучіть усі значення NaN із одновимірного масиву"
      ],
      "metadata": {
        "id": "oZxtnKu1nF9n"
      }
    },
    {
      "cell_type": "code",
      "source": [
        "a = np.array([1,2,3,np.nan,5,6,7,np.nan])\n",
        "\n",
        "a_new = a[~np.isnan(a)]\n",
        "\n",
        "print(a_new)"
      ],
      "metadata": {
        "colab": {
          "base_uri": "https://localhost:8080/"
        },
        "id": "an3OQzL-nK1v",
        "outputId": "5ffa9111-e5bd-450a-dab5-9a53558c6c66"
      },
      "execution_count": 23,
      "outputs": [
        {
          "output_type": "stream",
          "name": "stdout",
          "text": [
            "[1. 2. 3. 5. 6. 7.]\n"
          ]
        }
      ]
    },
    {
      "cell_type": "markdown",
      "source": [
        "8. Обчисліть евклідову відстань між двома масивами a і b."
      ],
      "metadata": {
        "id": "j62Ypth0owCu"
      }
    },
    {
      "cell_type": "code",
      "source": [
        "a = np.array([1,2,3,4,5])\n",
        "b = np.array([4,5,6,7,8])\n",
        "\n",
        "evkl_dist = np.linalg.norm(a-b)\n",
        "print(evkl_dist)"
      ],
      "metadata": {
        "colab": {
          "base_uri": "https://localhost:8080/"
        },
        "id": "G5yAz9TSotjM",
        "outputId": "3e81a0ef-80a4-45d1-b43e-01541c5922c5"
      },
      "execution_count": 26,
      "outputs": [
        {
          "output_type": "stream",
          "name": "stdout",
          "text": [
            "6.708203932499369\n"
          ]
        }
      ]
    },
    {
      "cell_type": "markdown",
      "source": [
        "9. Знайдіть індекс 5-го повторення числа 1 у масиві x"
      ],
      "metadata": {
        "id": "sVIpl57VqZvo"
      }
    },
    {
      "cell_type": "code",
      "source": [
        "x = np.array([1, 2, 1, 1, 3, 4, 3, 1, 1, 2, 1, 1, 2])\n",
        "\n",
        "indices = np.where(x == 1)[0]\n",
        "place = indices[4]\n",
        "print(place)"
      ],
      "metadata": {
        "colab": {
          "base_uri": "https://localhost:8080/"
        },
        "id": "wgADQtXSqbl1",
        "outputId": "d0b44c88-6469-4707-d04c-9ef1011ce810"
      },
      "execution_count": 32,
      "outputs": [
        {
          "output_type": "stream",
          "name": "stdout",
          "text": [
            "8\n"
          ]
        }
      ]
    },
    {
      "cell_type": "markdown",
      "source": [
        "10. Знайдіть повторювані записи (від 2-го випадку повторення і далі) у заданому масиві і позначте їх як True. Перше повторення має бути False."
      ],
      "metadata": {
        "id": "t9GOTNPyrUak"
      }
    },
    {
      "cell_type": "code",
      "source": [
        "np.random.seed(100)\n",
        "a = np.random.randint(0, 5, 10)\n",
        "print(a)\n",
        "\n",
        "result = np.zeros_like(a, dtype=bool)\n",
        "seen = set()\n",
        "\n",
        "for i, val in enumerate(a):\n",
        "    if val in seen:\n",
        "        result[i] = True\n",
        "    else:\n",
        "        seen.add(val)\n",
        "\n",
        "print(result)\n"
      ],
      "metadata": {
        "colab": {
          "base_uri": "https://localhost:8080/"
        },
        "id": "Fx4brVp8riIO",
        "outputId": "b0633f72-db3b-477a-bcbb-4c13e060be97"
      },
      "execution_count": 37,
      "outputs": [
        {
          "output_type": "stream",
          "name": "stdout",
          "text": [
            "[0 0 3 0 2 4 2 2 2 2]\n",
            "[False  True False  True False False  True  True  True  True]\n"
          ]
        }
      ]
    }
  ]
}